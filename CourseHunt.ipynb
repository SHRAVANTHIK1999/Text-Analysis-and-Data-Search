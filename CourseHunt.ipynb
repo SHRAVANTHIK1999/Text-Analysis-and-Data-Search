{
  "cells": [
    {
      "cell_type": "code",
      "execution_count": 54,
      "metadata": {
        "id": "xrtOCjr5nihH"
      },
      "outputs": [],
      "source": [
        "import os\n",
        "import pandas as pd\n",
        "import sqlite3\n",
        "from langchain.schema import Document\n",
        "from langchain.text_splitter import RecursiveCharacterTextSplitter\n",
        "from langchain_community.vectorstores import FAISS\n",
        "from langchain_community.embeddings import HuggingFaceBgeEmbeddings\n",
        "import numpy as np"
      ]
    },
    {
      "cell_type": "code",
      "execution_count": 55,
      "metadata": {
        "id": "zm2II2mCoQFN"
      },
      "outputs": [],
      "source": [
        "# Define the SQLite database path\n",
        "db_path = '/Users/Shravanthi/TAADS/courses01.sqlite'\n",
        "\n",
        "# Define the folder containing the dataset files\n",
        "data_folder = '/Users/Shravanthi/TAADS/datasets'  "
      ]
    },
    {
      "cell_type": "code",
      "execution_count": 56,
      "metadata": {
        "id": "cYRWZOj7oaAS"
      },
      "outputs": [],
      "source": [
        "# Function to clean a dataset\n",
        "def clean_dataset(df):\n",
        "    # Fill missing values\n",
        "    df.fillna(\"Not specified\", inplace=True)\n",
        "\n",
        "    # Standardize column names\n",
        "    df.columns = [col.lower().replace(\" \", \"_\") for col in df.columns]\n",
        "\n",
        "    # Handle invalid prices or negative values if relevant columns exist\n",
        "    if 'price' in df.columns and 'num_subscribers' in df.columns:\n",
        "        df = df[(df['price'] >= 0) & (df['num_subscribers'] >= 0)]\n",
        "    return df"
      ]
    },
    {
      "cell_type": "code",
      "execution_count": 57,
      "metadata": {
        "id": "A_iJZUNWoc09"
      },
      "outputs": [],
      "source": [
        "# Function to add a dataset to the SQLite database\n",
        "def add_to_sqlite(df, table_name, db_path):\n",
        "    conn = sqlite3.connect(db_path)\n",
        "    df.to_sql(table_name, conn, if_exists='replace', index=False)\n",
        "    conn.close()"
      ]
    },
    {
      "cell_type": "code",
      "execution_count": 58,
      "metadata": {
        "colab": {
          "base_uri": "https://localhost:8080/"
        },
        "id": "7y3mybrpogKE",
        "outputId": "67ec2c23-f972-42df-b5ce-318abe6ff355"
      },
      "outputs": [
        {
          "name": "stdout",
          "output_type": "stream",
          "text": [
            "Added EdX.csv as table edx in SQLite database.\n",
            "Added coursera.csv as table coursera in SQLite database.\n"
          ]
        },
        {
          "name": "stderr",
          "output_type": "stream",
          "text": [
            "/var/folders/gc/4knrk_3912gc2lfc0skhzgvh0000gn/T/ipykernel_82403/846106797.py:4: FutureWarning: Setting an item of incompatible dtype is deprecated and will raise an error in a future version of pandas. Value 'Not specified' has dtype incompatible with float64, please explicitly cast to a compatible dtype first.\n",
            "  df.fillna(\"Not specified\", inplace=True)\n"
          ]
        },
        {
          "name": "stdout",
          "output_type": "stream",
          "text": [
            "Added Coursera_2.csv as table coursera_2 in SQLite database.\n",
            "Unsupported file format: merged_courses.sqlite\n",
            "Added udemy_courses.csv as table udemy_courses in SQLite database.\n",
            "Added CoursesData.csv as table coursesdata in SQLite database.\n",
            "Tables in the database: [('cleaned_courses',), ('edx',), ('coursera',), ('coursera_2',), ('udemy_courses',), ('coursesdata',)]\n"
          ]
        }
      ],
      "source": [
        "# Loop through all files in the data folder\n",
        "for file_name in os.listdir(data_folder):\n",
        "    file_path = os.path.join(data_folder, file_name)\n",
        "\n",
        "    # Read the dataset based on file extension\n",
        "    if file_name.endswith('.csv'):\n",
        "        df = pd.read_csv(file_path)\n",
        "    else:\n",
        "        print(f\"Unsupported file format: {file_name}\")\n",
        "        continue\n",
        "\n",
        "    # Clean the dataset\n",
        "    df_cleaned = clean_dataset(df)\n",
        "\n",
        "    # Generate a table name based on the file name\n",
        "    table_name = os.path.splitext(file_name)[0].lower().replace(\" \", \"_\")\n",
        "\n",
        "    # Add the cleaned dataset to the SQLite database\n",
        "    add_to_sqlite(df_cleaned, table_name, db_path)\n",
        "\n",
        "    print(f\"Added {file_name} as table {table_name} in SQLite database.\")\n",
        "\n",
        "# Verify the tables in the SQLite database\n",
        "conn = sqlite3.connect(db_path)\n",
        "created_tables = conn.execute(\"SELECT name FROM sqlite_master WHERE type='table';\").fetchall()\n",
        "conn.close()\n",
        "\n",
        "print(\"Tables in the database:\", created_tables)"
      ]
    },
    {
      "cell_type": "code",
      "execution_count": 59,
      "metadata": {
        "id": "POfIsB1coqNz"
      },
      "outputs": [],
      "source": [
        "# Function to load data from all tables in SQLite database\n",
        "def load_data_from_all_tables(db_path):\n",
        "    conn = sqlite3.connect(db_path)\n",
        "    cursor = conn.cursor()\n",
        "\n",
        "    # Get all table names from the database\n",
        "    cursor.execute(\"SELECT name FROM sqlite_master WHERE type='table';\")\n",
        "    tables = cursor.fetchall()\n",
        "\n",
        "    documents = []\n",
        "    for table_name in tables:\n",
        "        table_name = table_name[0]  # Extract table name from tuple\n",
        "        print(f\"Loading data from table: {table_name}\")\n",
        "\n",
        "        # Fetch all rows from the table\n",
        "        cursor.execute(f\"SELECT * FROM {table_name}\")\n",
        "        rows = cursor.fetchall()\n",
        "\n",
        "        # Combine rows into Document objects\n",
        "        # Assuming the content starts at index 1 to skip a potential primary key column\n",
        "        for row in rows:\n",
        "            page_content = \" \".join(map(str, row[1:]))  # Combine all columns except the first\n",
        "            documents.append(Document(page_content=page_content))\n",
        "\n",
        "    conn.close()\n",
        "    return documents"
      ]
    },
    {
      "cell_type": "code",
      "execution_count": null,
      "metadata": {
        "colab": {
          "base_uri": "https://localhost:8080/"
        },
        "id": "ToYwb7Cjo_T2",
        "outputId": "db176ae2-4946-4d19-fc93-c571fabd7fe4"
      },
      "outputs": [
        {
          "name": "stdout",
          "output_type": "stream",
          "text": [
            "Loading data from table: cleaned_courses\n",
            "Loading data from table: edx\n",
            "Loading data from table: coursera\n",
            "Loading data from table: coursera_2\n",
            "Loading data from table: udemy_courses\n",
            "Loading data from table: coursesdata\n"
          ]
        }
      ],
      "source": [
        "# Define the database path\n",
        "db_path = \"/Users/Shravanthi/TAADS/courses01.sqlite\"\n",
        "\n",
        "# Load data from all tables\n",
        "documents = load_data_from_all_tables(db_path)"
      ]
    },
    {
      "cell_type": "code",
      "execution_count": 61,
      "metadata": {
        "colab": {
          "base_uri": "https://localhost:8080/"
        },
        "id": "AwpIlUN3pBkj",
        "outputId": "ba5399da-c838-469a-8080-e333c7989da4"
      },
      "outputs": [
        {
          "name": "stdout",
          "output_type": "stream",
          "text": [
            "▪ Self-study There are no formal requirements. Nieuwenhuis, P. / Wells, P.: Global Automotive Industry, John Wiley & Sons, 2015\\nMunson, C.: The Supply Chain Management Casebook, FT Press, 2013Diehlmann, J. / Häcker, J.: Automotive Management, 2nd ed., Oldenbourg Verlag, 2013 Myerson, P. A.: Lean and Technology: Working Hand in Hand to Enable and Energize Your Global Supply Chain, Pearson Education, 2017F urther references will be given during the classes. This course is in particular applicable to the following Master programmes: International Business and Economics (M.A.; “IBE”).\n",
            "▪ Readings and exam preparation: 54 6  Comprehensive written examination, 90 minutes (100%) First academic year Summer 1 Semester Elective English b'`\\xe4\\\\<\\xf6\\xb4\\x00=\\xad▪ Self-study There are no formal requirements. Nieuwenhuis, P. / Wells, P.: Global Automotive Industry, John Wiley & Sons, 2015\\nMunson, C.: The Supply Chain Management Casebook, FT Press, 2013Diehlmann, J. / Häcker, J.: Automotive Management, 2nd ed., Oldenbourg Verlag, 2013 Myerson, P. A.: Lean and Technology: Working Hand in Hand to Enable and Energize Your Global Supply Chain, Pearson Education, 2017F urther references will be given during the classes. This course is in particular applicable to the following Master programmes: International Business and Economics (M.A.; “IBE”).\n",
            "\\xbc\\xe8P\\xae\\xbb\\x82\\xcbD\\xbdF\\xa1\\x10\\xbc\\xe8!\\x80=b\\x06)=lI\\xb8\\xbd\\x01.!<A\\xf1\\xfd;|Z\\xb0<\\x07`\\xa9=\\x83\\x13\\x03;\\xd7^\\xef\\xbcN\\xc7\"\\xbcn\\xd0\\xad<=\"A\\xbdY\\xcd\\x17=\\n\\x1d\\xc4\\xbd}\\xfa\\x1a\\xbd\\nfG<7h\\x8a<\\x9e\\xee\\xf1<?\\x88l\\xbd\\xc4\\xd1\\xff<X\\x99>\\xbb A&=\\x15\\xf4a\\xbd\\xffH&\\xbd\\x15-\\xa6\\xbc^\\x0c\\xb1=p\\xe5\\x95<\\xae\\x88\\x94\\xb9c\\xc0\\x13\\xbcs\\xc0\\x94\\xbd\\x89j\\xbc\\xbdE\\\\\\x11\\xbd\\x19\\x8d\\xdd<\\xa31\\x0c\\xbe)#\\x00\\xbd\\x85\\x0b\\xe2\\xbd\\x85[9\\xbd\\xccG\\n\\xbd\\x83\\x14\\x14=\\xb5m\\x91:\\xdb\\x90\\x1a=rDn\\xbc\\x1d\\xbf\\xa1\\xbbua\\x16\\xbc\\xae\\x0f{\\xbb<u\"\\xbd\\xb5ne\\xba\\xce\\xc6\\xad\\xbdN\\xbc|\\xbd\\xcc\\x8bD=\\xc6j\\r=\"D\\x02=\\n\\xef\\x89\\xbd.D\\xb5\\xbd\\xd3l\\x1b=\\x9e\\x9a\\xcb\\xbc\\x0f\\xae\\xfe\\xbc\"~\\x93\\xb9\\x05\\xfa\\x05\\xbd\\x8d\\xdd\\x1d=\\x00Z\\xf4<\\xf3\\xd3\\xce<\\xfc$\\xb2;f\\xc9\\x0f=S\\xc2\\x85=\\\\\\x11p\\xbduUM\\xbd`\\xab!=\\x13\\xe1z=[\\x16)\\xbdEy\\xb7<\\xdf*\\xd4<\\xc3/l=\\xee\\x18+\\xbd\\xdd\\x0c\\xe5<\\xe3\\xa2\\x08=p\\xb0\\xd6\\xb7\\xd5 \\xd2\\xbc\\xb2\\xd0\\x8a\\xbd\\x92\\xa7\\x8e\\xbc\\x13\\x0b\\xb7\\xbc\\x0fm\\x18<\\x02\\xa1-<x!\\x95<\\xa3\\x1bW\\xbc.\\xca\\x9a\\xbd\\x83u\\x97;\\x07\\x9ej\\xbd\\x0c5\\xe7\\xbc*\\xa6h<\\xa9\\xa5Q=T\\xf6.\\xbc\\xb6+T=\\xc8Y\\x12=2_\\x88=\\x98\\xae\\xef<\\x96|\\x06\\xbd,a\\xc0\\xbc\\xb3\\'\\xe3\\xbd\\xf3P\\x93=\\xa4\\x94\\x00=~\\xf6\\xbe<<Pv\\xbc4\\x9e\\xcb\\xbc\\xae\\x00\\x87=\\xa4\\xa0*=\\xf6\\xacQ\\xbc\\n\\x07\\x99\\xbd\\x1a\\xe4j\\xbd\\x9e\\x85\\r=\\xff\\x13\\x93\\xbc\\xab\\xd4\\xc4<\\xc4\\xea\\xcd=\\x85\\x0e\\xe8=\\xc7\\x8f\\x8b\\xbdO\\x99D\\xbd)Po=\\x99Gp=\\xd6\\xec*=\\xa1\\xd0x:\\x98\\x88\\xff\\xbcg\\xfc\\xa4\\x894\\x98\\xc1\\xbd\\x91k\\xf7\\xbcq\\xa8\\r\\xbd\\xca6X=h\\xf5s=\\x07a\\xd1<\\xd0t\\x13\\xbcd\\x0c\\x86=\\x8d\\xd6:;\\xa8ql\\xbd\\xf9\\xf5\\xde<\\xafq\\x9d=\\x85\\x9e\\xea\\xbc\\xffo\\xf7\\xbd\\r\\xf2\\x03>\\xf2\\xb0\\xa9\\xbd\\xe7\\xa9K\\xbd\\xab\\xe8\\x95=\\xca\\xb2\\xed\\xbc/\\xc8x\\xbd\\xdc\\xd9\\xc1\\xbd\\xbe~ \\xbd\\x86}\\x17=\\xc7\\xd3\\x02=\\xad\\x12\\x02>\\xd0\\xf9\\xa0=8\\xfc\\x84\\xbcp\\xff\\x16=\\xd7\\xf3\\xf9<\\x93\\xc7\\xb5<\\x9d6\\x1a\\xbc\\xe1\\x04\\xa1=\\xc2\\xc7.\\xbc\\x11\\xdc\\xb6\\xb9Jy\\xf1<\\xf6c)=\\x11\\x96\\x10\\xbe\\x99\\r\\xf9\\xbc\\x8eQs\\xbc\\xe3d\\x11<\\xae=\\x8d\\xbc?\\x10\\xda\\xbb\\xd1\\xbd\\xb7\\xbd\\x01\\xc6\\xca\\xbc#\\xd4\\x8e\\xbd\\x1fe(=\\xed$\\x9e=-\\x86\\x0b=q\\x8a@\\xbc\\x820\\x99<\\xb1\\x91\\x01\\xbd\\x96Q\\x18\\xbb\\xa8\\xd9\\xa2=\\xd0\\x95i\\xbd\\xa6\\xbe\\x99=EZE==\\x18\\x12=\\xcdr\\xb4\\xbd\\x19\\x07\\xd5\\xba\\x05((:\\xc8\\t\\xcf\\xbd\\xb8\\xba\\x85=b\\x06\\xf9\\xbb\\xea\\xb6\\x07<\\xf1\\x8dZ=Ppr=\\x10\\xaa\\xba\\xbbSQm<\\xc9\\xcf]=\\xde\\xc5M=\\x8b\\xc5\\xa2\\xbbP|\\x82\\xbd\\xa3\\xe1!=\\x8f\\x91\\x1b=\\x10\\x80l<\\x06L\\xe1=G\\x9c =b\\xdc\\xb9<\\xbf\\xf1\\xa3\\xbd\\x8c\\xee[\\xbd\\x18gk\\xbd\\x97\\xb8T=:\\xff\\xaa<\\xb1\\t\\x17\\xbc\\x1e\\xf1\\xc9=\\xdf8\\xac\\xbc1\\x90\\xee\\xbc\\x8c\\x85\\xbc\\xbb\\'\\t\\xc0<6C\\xa1=\\xe0s\\x8a\\xbbW[\\x1e=g\\x87\\xf9\\xbc\\xfd\\xc3\\xba=\\x8e\\xfb\\xe6< \\xa3D\\t+^==\\xa0\\xf7D\\xbc\\xcf\\x7f^<\\xbcQ\\xc1<\\xe2\\xdd\\x06=d\\xd7&\\xbd\\x9de~\\xbd$\\xc1\\x0f\\xbd>uw\\xbc\\xec\\x085=!\\xf2\\x12=\\x05\\xf8\\xf0\\xbcX\\xc1\\xd1<>\\xa2\\x96\\xbb\\xcd\\x15|\\xbcf;Z\\xbd\\xc9\\x0fm=\\xb6\\x14\\xdc\\xbd}@P\\xbd\\xbe\\xd8}\\xbci\\xc4\\xea\\xbc2\\xc1\\x89\\xbc\\x0b/\\n\\xbd\\x84\\xba\\x07<\\xdf\\xae\\xa7\\xbd1a\\x97<\\xcb\\x8f\\xde\\xbd\\x9a\\x82a\\xbcP\\x8dt:\\x9d\\xd8\\xc0\\xbccjJ=>\\xe9\\xb1\\xbdT\\xa8\\xc7=\\\\u\\'=\\xc9\\x889=\\xd5Rl\\xbd\\xfa\\xa1\\x9a=\\x9cmK=z\\x9eY\\xbd?e\\x1a=,\\xb6V\\xbc\\x98\\x05\\xe1\\xbdA%M\\xbd\\x12\\x8a\\xbf\\xba\\x89|\\x85:\\\\\\x0b6\\xbdX\\xb7q<hm\\x1a\\xbdu\\x9c\\xcf<H\\xae\\xb5\\xbcb`\\xc3<\\x93\\xe4y\\xbd\\xc8\\nn=\\x92)f\\xbd?G\\xd1\\xbcCz\\x89=Da\\xc5=0\\xf7$=\\x85?C\\xbdT\\'\\xa0=\\x7f\\x03\\x85=\"\\xa6\\x83\\xbb\\xab9\\x88=A\\xcbJ\\xbc\\xec\\x12_\\xbd\\x99\\x8c\\t\\xbe\\xc6\\x977=^\\xa3\\x89\\xbb\\xeel\\x83\\xbd0\\x94\\xc1\\xbc\\xfc\\x87\\x0e=&\\xe8\\xe8<\\n\\n)=\\x8bU\\x0b<\\xfa\\xa0g<}r\\x93\\xbd\\x85@E;\\xd2\\xe1k\\xbdk\\x85Y\\xbc\\x92\\xc71\\xbd\\x1a\\x08/=@\\x1cv<\\xe1\\xfc\\r:\\x80\\xe4\\x02>\\xbc\\x07\\xa1\\xbd\\x87\\xe18=\\x15\\t\\x9d\\xbcl\\xa70\\xbd\\xfc\\x81<<b\\xda\\xc4\\xbc\\xdc\\xd6\\x04\\xbd\\xa2\\x91%<\\xd1\\xeb\\xe9;HZ\\xfa<\\x8aB\\xcc\\xbd!\\xf8c\\xb2\\xabd\\xfd\\xbb\\xbf\\x89\\xfa\\xbb\\r[?<\\x15<\"\\xbd\\x07j\\x18\\xbdO;\\x17=B]\\x9d;\\xa4+\\x8d<k\\x07\\xa6\\xbd\\xd3\\xccL;\\xb54\\xad<\\xb9uu\\xbd\\x0e+\\xa9\\xbc\\xcb\\xf6\\xd5=Q\\x96h=\\x1c\\xf8\\xfc\\xbc\\xbaL\\xff;\\x10sW==\\xc8-\\xbd\\xbb\\xe6K\\xbd\\xffLt=\\xda/\\x86<\\xf9\\xbf\\xae=R\\x0c\\xb3=\\xe9b\\xa8=\\xb6%\\xb4\\xbd\\x0bc\"=H\\xe9y=\\x9a\\xfa==\\xfa\\x8a4:s\\xd2\\xd5\\xbc\\xac3\\xd9;\\xce\\x8e\\xb9=\\x83J\\x8f=g[\\xd4<\\xe6\\x93\\x00\\xbe\\x94\\x84u=y.\\x85=Y]\\x01=\\xf8\\xc5%\\xbd\\xa8\\x18\\x0c\\xbcH\\xad\\\\=\\rgh\\xbdP\\x83\\xe9<\\xbct\\xda\\xbbQ\\xd1-<if\\x01\\xbd\\x16\\x00\\xac\\xbc^;\\xb7\\xbdK:6\\xbd\\xa8\\xf4\\xbf\\xbcf\\xfd\\r=\\x7f\\xf7\\xd8;\\x80Z\\xff=5\\xc6\\x9f<\\xee*\\x98\\xbc[\\xea\\xa7=\\'f\\x19\\xbd\\xab~\\xd9<o\\xde]\\xbdZ\\xe5-\\xbc\\x97\\xc8\\x9b\\xbc\\xb7NU=\\xd7\\xc5_=''\n",
            "Total number of document chunks: 21388\n"
          ]
        }
      ],
      "source": [
        "# Split documents into manageable chunks\n",
        "text_splitter = RecursiveCharacterTextSplitter(chunk_size=10000, chunk_overlap=500)\n",
        "final_documents = text_splitter.split_documents(documents)\n",
        "\n",
        "# Verify loading and splitting\n",
        "print(final_documents[0])\n",
        "print(\"Total number of document chunks:\", len(final_documents))"
      ]
    },
    {
      "cell_type": "code",
      "execution_count": 62,
      "metadata": {
        "colab": {
          "base_uri": "https://localhost:8080/"
        },
        "id": "jkmFN4kHpEyQ",
        "outputId": "25a39c94-acab-419e-d647-29460ef3cb02"
      },
      "outputs": [
        {
          "name": "stdout",
          "output_type": "stream",
          "text": [
            "Embedding vector for the first document chunk: [-1.20745432e-02  7.87301734e-02  3.50556932e-02 -3.51749198e-03\n",
            "  4.15791199e-02  1.76234301e-02 -2.72782776e-03  7.31812716e-02\n",
            " -7.47286752e-02 -6.48280084e-02  3.67245451e-02 -3.15500535e-02\n",
            "  1.89472776e-04 -8.75324756e-03  1.52375121e-02  1.68769844e-02\n",
            "  3.09608914e-02  6.90320181e-03  5.20508289e-02 -7.78147578e-02\n",
            " -1.28828706e-02 -4.48709019e-02 -5.97062148e-03 -1.52579965e-02\n",
            "  5.33557013e-02  1.23097170e-02  2.62966603e-02  2.56084800e-02\n",
            " -2.69088540e-02 -1.89657047e-01 -5.13429195e-02  2.75295712e-02\n",
            "  1.83006283e-02  6.51086867e-02  9.47162881e-03  3.43764909e-02\n",
            " -7.25370049e-02 -9.51696001e-03  9.83149093e-03 -5.51961847e-02\n",
            " -4.87993285e-03  4.15199064e-03  1.42299077e-02 -7.33447745e-02\n",
            "  1.63218100e-02 -3.56145836e-02  3.48471384e-03 -2.20933761e-02\n",
            " -1.34163564e-02 -6.70475885e-02 -1.20901065e-02 -5.57899065e-02\n",
            "  1.56254657e-02 -4.86150086e-02 -1.90979540e-02  4.46648337e-02\n",
            "  2.90481038e-02  1.15750451e-02 -1.90451536e-02  1.63646806e-02\n",
            "  1.99905802e-02 -4.03263140e-03 -2.30210438e-01  4.91672195e-02\n",
            "  4.25370336e-02  4.50481102e-02 -4.82720844e-02  6.17877208e-03\n",
            " -1.20272795e-02  7.07047880e-02 -6.89102802e-03 -5.24890050e-02\n",
            " -4.73581860e-03  5.57298400e-02  5.21628768e-04  4.60137017e-02\n",
            "  1.21168988e-02 -2.00189240e-02 -1.91011745e-02 -5.18848225e-02\n",
            "  2.67848298e-02  2.36327350e-02 -1.58615913e-02 -6.79675713e-02\n",
            " -1.61582958e-02 -2.54471414e-02  4.94678319e-02 -3.94100137e-02\n",
            "  4.05805707e-02 -2.02022027e-03 -2.20775791e-02 -7.97321089e-03\n",
            " -1.98903289e-02 -7.59269372e-02  5.23924464e-05  6.76323147e-03\n",
            "  3.06589855e-03 -3.17371800e-03  1.07070040e-02  3.46135408e-01\n",
            "  4.29056678e-03 -1.30409105e-02  2.94966195e-02 -1.25711048e-02\n",
            " -3.12733836e-02  6.96511641e-02 -3.83391567e-02  4.74198535e-02\n",
            "  8.72943271e-03  3.85226565e-03  6.93211406e-02  3.01341782e-03\n",
            "  2.74411142e-02 -7.69994780e-02  8.77912808e-03  2.46986095e-02\n",
            " -3.43037769e-02  4.41845991e-02  5.73800988e-02  3.36245187e-02\n",
            " -7.12655066e-03  2.06032768e-02  3.79789695e-02 -7.98624847e-03\n",
            "  1.18088573e-02 -3.20742615e-02  3.78995016e-02  3.54994796e-02\n",
            "  3.27933654e-02 -5.31095378e-02  2.70880163e-02  1.92509498e-03\n",
            " -8.92030746e-02 -1.66692417e-02  3.29464674e-02 -1.56976227e-02\n",
            " -4.80713472e-02  4.76648919e-02 -2.75472216e-02  5.22835962e-02\n",
            " -3.82150412e-02  2.36054733e-02 -4.43392573e-03 -9.77871716e-02\n",
            " -4.41067815e-02  1.01508975e-01  2.34432742e-02 -1.51226937e-03\n",
            " -6.31979108e-02 -2.17889845e-02  2.18893383e-02  2.75436658e-02\n",
            "  1.78746544e-02  6.60236878e-03  2.03544796e-02  1.16925240e-02\n",
            "  2.57495418e-02  3.49992923e-02 -3.72238383e-02  3.39631364e-02\n",
            " -5.80230318e-02 -1.26666296e-02 -2.63361586e-03  1.52152956e-01\n",
            "  2.94023361e-02 -1.15035780e-01  8.05500336e-03 -9.79566574e-03\n",
            "  3.76394428e-02 -3.28958072e-02 -3.99459749e-02  6.21253178e-02\n",
            "  9.82306898e-04  4.89024520e-02  4.51015607e-02 -4.19131713e-03\n",
            " -4.41504717e-02  5.38598634e-02 -3.68905365e-02 -2.89298932e-05\n",
            "  1.74107719e-02  3.35836259e-04 -3.74720506e-02 -8.75679404e-03\n",
            "  4.05896269e-02  3.83803068e-04 -2.79439036e-02 -1.74962562e-02\n",
            " -1.62094273e-02 -1.39817931e-02 -4.99320542e-03  7.71765560e-02\n",
            " -3.76221947e-02  7.40692243e-02 -2.34524310e-02  1.83726642e-02\n",
            "  3.00508291e-02 -4.36154641e-02  2.70617343e-02 -2.10083295e-02\n",
            " -4.09742109e-02  3.05153728e-02  3.94195598e-03  2.21886355e-02\n",
            " -3.94486375e-02  1.79558974e-02  2.53346711e-02 -1.48370741e-02\n",
            "  3.19835097e-02  1.46792270e-02 -5.95069304e-02  1.92448637e-03\n",
            " -4.56752768e-03 -4.04072180e-03  2.35794149e-02 -2.13590711e-02\n",
            " -1.96801964e-02  9.38679054e-02 -4.33661006e-02  1.93654478e-03\n",
            "  2.63435133e-02  6.23709336e-02 -2.92034238e-03 -3.46661836e-01\n",
            " -1.97933335e-02 -3.20579372e-02  1.03065595e-02  3.98575747e-03\n",
            " -6.44729298e-04 -8.75881407e-03 -5.59773371e-02  5.88102173e-03\n",
            " -4.46255356e-02  9.17903781e-02 -8.68227985e-03  1.92974657e-02\n",
            " -5.99388033e-02  4.35407460e-02 -6.08888594e-03 -6.30152076e-02\n",
            " -9.72733274e-03 -6.21839091e-02  6.88254135e-03 -2.68419795e-02\n",
            "  5.09126559e-02 -1.01802023e-02  7.52723729e-03  6.50155246e-02\n",
            " -3.12715024e-02  6.28380775e-02 -1.16176233e-01 -1.55296475e-02\n",
            " -7.60941580e-03  3.04336809e-02  5.44291772e-02 -1.23840813e-02\n",
            " -1.49174361e-02 -4.90053371e-03 -9.17555988e-02  2.80863922e-02\n",
            "  2.84700524e-02 -1.97734078e-03 -6.27803244e-03  6.44926354e-03\n",
            " -4.42756014e-03 -2.13105530e-02 -1.35901095e-02 -3.87751944e-02\n",
            " -4.07170281e-02 -4.42694947e-02  8.22353829e-03 -1.81279145e-02\n",
            "  5.34529090e-02  4.15661670e-02  9.05044228e-02  4.40885685e-02\n",
            "  1.04810041e-03 -5.63922897e-02 -2.67286394e-02 -3.52575034e-02\n",
            "  2.08546538e-02 -5.74788339e-02 -3.30245197e-02 -3.88067961e-02\n",
            "  1.28944665e-02  3.83986533e-02  1.56638194e-02 -4.34021764e-02\n",
            " -5.27501479e-02  3.90920751e-02 -2.48909108e-02 -5.87000139e-03\n",
            " -1.78439766e-02 -3.92678939e-02  5.47540411e-02  3.57778557e-02\n",
            "  6.53893966e-03  4.27820757e-02 -5.37038743e-02  3.29551101e-02\n",
            "  4.51652966e-02  1.62830483e-02  3.56657710e-03 -9.86639317e-03\n",
            "  2.94676442e-02  6.84554875e-02  8.52642953e-02  4.19156440e-02\n",
            "  3.54286283e-02  2.28673536e-02 -4.32741120e-02 -6.30084500e-02\n",
            "  9.30512100e-02 -1.44657325e-02  7.19753210e-04 -3.23740579e-02\n",
            "  1.38435559e-02  5.40058091e-02  3.34397666e-02 -2.20610932e-01\n",
            "  3.06399409e-02 -1.45120053e-02  4.21059765e-02  3.39190289e-03\n",
            " -3.35521586e-02 -1.70009565e-02 -7.67825618e-02  6.33553788e-03\n",
            " -2.08265036e-02  2.06164569e-02  1.27186887e-02  8.37345570e-02\n",
            "  1.84462238e-02  6.39510676e-02  5.82349021e-03  8.57035667e-02\n",
            " -1.84695385e-02  2.15294361e-02  1.63222430e-03  2.73898337e-02\n",
            "  2.01253556e-02  1.44522652e-01 -1.05981324e-02  7.04025924e-02\n",
            "  3.30672674e-02 -3.95614877e-02 -3.78308445e-02  1.29188821e-02\n",
            "  2.07032114e-02  3.92074212e-02 -2.57965196e-02  8.22327659e-02\n",
            "  4.97733615e-03  3.59477103e-02 -1.63894016e-02 -2.97684837e-02\n",
            "  3.23545747e-02 -1.00580305e-02  5.32606170e-02 -1.71516314e-02\n",
            "  2.87904381e-03 -5.52317984e-02 -8.70644599e-02  5.15855514e-02\n",
            " -6.07322790e-02 -2.58106925e-02 -1.04923174e-01 -6.90712258e-02\n",
            "  6.95876591e-03 -1.88565589e-02 -2.71341689e-02 -2.65172822e-03\n",
            " -1.94142982e-02 -5.67080937e-02 -6.54339464e-03  4.79433388e-02\n",
            "  9.38431639e-03  1.22384978e-02  1.62506872e-03  1.50141816e-04\n",
            "  4.34297584e-02 -4.02023457e-02  5.86778782e-02  1.64499283e-02]\n",
            "Shape of the embedding vector: (384,)\n"
          ]
        }
      ],
      "source": [
        "# Initialize embeddings using HuggingFace\n",
        "huggingface_embeddings = HuggingFaceBgeEmbeddings(\n",
        "    model_name=\"BAAI/bge-small-en-v1.5\",\n",
        "    model_kwargs={'device': 'cpu'},\n",
        "    encode_kwargs={'normalize_embeddings': True}\n",
        ")\n",
        "\n",
        "# Example embedding for verification\n",
        "embedding_example = np.array(huggingface_embeddings.embed_query(final_documents[0].page_content))\n",
        "print(\"Embedding vector for the first document chunk:\", embedding_example)\n",
        "print(\"Shape of the embedding vector:\", embedding_example.shape)"
      ]
    },
    {
      "cell_type": "code",
      "execution_count": 63,
      "metadata": {
        "colab": {
          "base_uri": "https://localhost:8080/"
        },
        "id": "fRxmbLIJpTQw",
        "outputId": "81a6cd1a-1a8b-4ee5-db01-c9fd3b05e5ad"
      },
      "outputs": [
        {
          "name": "stdout",
          "output_type": "stream",
          "text": [
            "Most relevant document content:\n",
            " National Research University Higher School of Economics Advanced 4.9 https://www.coursera.org/learn/industrial-organization Industrial Organization is the area of economics that studies the markets as institutions, the state of competition and strategic interaction among firms, the industrial policy and the business decisions firms make within the market framework. The course looks at the markets from three different perspectives: the economic theory, the applied business perspective and the institutional and legal perspective. The focus of the course is split equally between the economic theory and business perspective but there is a significant legal component incorporated in various topics. The course includes economic modeling, game theory, numerous real life examples and several case studies. We explore interesting topics of market organization such as negotiations, antitrust, networks, platforms, electronic markets, intellectual property, business strategies, predation, entry deterrence and many others.  The basic objective of the course is to enable the student to understand the structure of markets and the nature of strategic competition. Knowledge in this course will be valuable for the students in acquiring managing and governance skills, enriching their understanding of the institutional framework of business, and improve their analytical ability in negotiations.   Prerequisites: The course requires understanding of basic economic modeling, knowledge of intermediate microeconomics (especially production/cost theory), knowledge of basic concepts and methodologies of game theory, intermediate econometrics and basic calculus.  Do you have technical problems? Write to us: coursera@hse.ru market (economics)  price discrimination  market power  market segmentation  product differentiation  self-selection bias  Game Theory  intellectual property  pricing  path dependence business business-strategy\n",
            "Retriever set up successfully: tags=['FAISS', 'HuggingFaceBgeEmbeddings'] vectorstore=<langchain_community.vectorstores.faiss.FAISS object at 0x103f90640> search_kwargs={'k': 1}\n"
          ]
        }
      ],
      "source": [
        "# Create FAISS VectorStore for similarity search\n",
        "vectorstore = FAISS.from_documents(final_documents, huggingface_embeddings)\n",
        "\n",
        "# Example Query Using Similarity Search\n",
        "query = \"Tell me about Industrial Economics\"\n",
        "relevant_documents = vectorstore.similarity_search(query)\n",
        "\n",
        "# Display content of the most relevant document found\n",
        "print(\"Most relevant document content:\\n\", relevant_documents[0].page_content)\n",
        "\n",
        "# Set up the retriever with similarity search configuration\n",
        "retriever = vectorstore.as_retriever(search_type=\"similarity\", search_kwargs={\"k\": 1})\n",
        "print(\"Retriever set up successfully:\", retriever)"
      ]
    },
    {
      "cell_type": "code",
      "execution_count": 64,
      "metadata": {
        "id": "MmuImChfpWHR"
      },
      "outputs": [],
      "source": [
        "# Hugging Face API setup (replace with your Hugging Face API token)\n",
        "os.environ['HUGGINGFACEHUB_API_TOKEN'] = \"Your Hugging Face Token\"\n",
        "\n",
        "# Initialize Hugging Face model for question-answering\n",
        "from langchain_community.llms import HuggingFaceHub\n",
        "\n",
        "hf = HuggingFaceHub(\n",
        "    repo_id=\"mistralai/Mistral-7B-Instruct-v0.3\",\n",
        "    model_kwargs={\"temperature\": 0.8, \"max_length\": 300}\n",
        ")"
      ]
    },
    {
      "cell_type": "code",
      "execution_count": 65,
      "metadata": {
        "colab": {
          "base_uri": "https://localhost:8080/",
          "height": 495
        },
        "id": "blP8FCx8rEfL",
        "outputId": "9a5a8f16-d442-4775-8de9-536c057f5181"
      },
      "outputs": [
        {
          "name": "stdout",
          "output_type": "stream",
          "text": [
            "Response from Hugging Face model:\n",
            " Tell me about Industrial Economics, Inc.\n",
            "Industrial Economics, Inc. (IE) is a leading economics consulting firm, with offices in Boston, Washington, D.C., Brussels, and Singapore, and more than 100 staff members. IE’s practice areas include antitrust, regulation, competition policy, energy, environmental economics, litigation support, and international trade.\n",
            "\n",
            "IE was founded in 1985 by faculty members of the Massachusetts Institute of Technology with a mission to provide clients with rigorous, independent, and actionable economic analysis. We provide consulting services to major corporations, law firms, and government agencies. We have testified before courts and regulatory agencies, including the Federal Trade Commission, the Department of Justice, the European Commission, the U.K. Competition and Markets Authority, and the China National Development and Reform Commission. Our clients have included American Airlines, AT&T, Bayer, Boeing, Boston Scientific, BT Group, Celgene, Citigroup, ExxonMobil, Google, IBM, Intel, Mastercard, Microsoft, Nike, The Procter & Gamble Company, Pfizer, Philips, Siemens, and Toyota.\n",
            "\n",
            "Our work has contributed to the resolution of major antitrust enforcement, industry-regulatory proceedings, and regulatory proceedings involving a wide range of industries, including airlines, automobiles, chemicals, consumer goods, electronics, energy, financial services, healthcare, pharmaceuticals, telecommunications, and transportation.\n",
            "\n",
            "Our academic staff is drawn from some of the leading universities in the world, and our research contributes to the academic discourse in economics, industry regulation, and competition policy. In 2016, IE’s principal, Dr. David Autor, was President of the American Economic Association—the world’s largest professional organization of economic scholars.\n",
            "\n",
            "What types of antitrust investigations and cases does IE participate in?\n",
            "IE’s antitrust practice is one of the largest and most experienced in the world. We provide consulting services to leading corporations, major law firms, and government agencies in connection with mergers, acquisitions, and joint ventures, as well as cartel, monopolization, and other antitrust litigation. Our engagements often involve complex economic issues, including market definition, market power, merger impacts, and damages.\n",
            "\n",
            "IE engages in numerous matters pertaining to mergers, acquisitions, and joint ventures, including:\n",
            "\n",
            "- Pre-merger notifications under U.S. Hart-Scott-Rodino Act, European Union Merger Regulation, and other antitrust laws\n",
            "- Pre-merger advice on the development of competitive strategies\n",
            "- Design of divestiture packages\n",
            "- Approach to remedies and negotiation of consents\n",
            "- Post-merger integration of companies\n",
            "- Evaluation of post-merger performance\n",
            "\n",
            "IE also frequently assists clients in connection with cartel investigations, including:\n",
            "\n",
            "- Evaluation of potential risks of antitrust exposure in proposed collaborative arrangements\n",
            "- Design of compliance programs\n",
            "- Analysis of potential or completed cartel arrangements\n",
            "- Analysis of potential antitrust exposure from regulatory pricing arrangements\n",
            "- Evaluation of potential alternatives to cartel arrangements\n",
            "\n",
            "Additionally, IE assists clients in connection with monopolization and other antitrust investigations, including:\n",
            "\n",
            "- Evaluation of potential antitrust exposure from market power, pricing, or other business practices\n",
            "- Analysis of potential alternatives to elimination of competition\n",
            "- Design of compliance programs\n",
            "\n",
            "In addition to these matters, IE regularly provides economic expert testimony in litigation, including:\n",
            "\n",
            "- Analysis of alleged anticompetitive conduct\n",
            "- Analysis of market power\n",
            "- Estimation of competitive effects\n",
            "- Calculation of damages\n",
            "- Design of economic expert reports, summary charts, and exhibits\n",
            "- Design of expert witness presentations, including testimony, cross-examination, and rebuttal\n",
            "\n",
            "IE has significant experience working with clients in a wide variety of industries, including aerospace, chemicals, pharmaceuticals, financial services, healthcare, retail, consumer goods, electronics, telecommunications, and transportation. We have worked with leading corporations, major law firms, and government agencies in connection with mergers, acquisitions, and joint ventures, as well as cartel, monopolization, and other antitrust litigation.\n",
            "\n",
            "Which antitrust agencies does IE work with?\n",
            "IE’s antitrust practice regularly interacts with antitrust authorities in the United States, Europe, Asia, and other parts of the world. Our work with U.S. antitrust agencies includes the Federal Trade Commission and the Department of Justice, Antitrust Division. In Europe, our work includes the European Commission, the U.K. Competition and Markets Authority, and the European Free Trade Association. In Asia, our work includes the China National Development and Reform Commission, the Fair Trade Commission of Taiwan, and the Competition Commission of Singapore.\n",
            "\n",
            "IE staff have acted as economic advisors to governments and played key roles in the development of competition policy in the United States and other countries. Additionally, IE staff have provided expert testimony in counsel for both the plaintiffs and defendants in antitrust enforcement and litigation proceedings in the United States, European Union, and Asia.\n",
            "\n",
            "How does IE get involved in antitrust investigations and cases?\n",
            "IE is often contacted by clients seeking assistance with potential antitrust investigations and cases. In some cases, clients ask IE to provide an initial assessment of potential antitrust issues. In other cases, clients ask IE to develop a comprehensive antitrust analysis, including analysis of potential competitive effects, market definition, market power, and the requirements for obtaining regulatory approval.\n",
            "\n",
            "In some cases, IE is engaged by law firms representing clients that are the subject of antitrust investigations or litigation. In these cases, IE ’s role is to provide economic analysis and expert testimony on behalf of the client. IE also works with clients in connection with self-reported cartel activity and in connection with compliance programs.\n",
            "\n",
            "What qualifications do IE’s antitrust experts have?\n",
            "IE’s antitrust practice is led by Dr. Adam C. Cohen, a partner at IE and one of the world’s leading experts in antitrust economics. He has more than 20 years of experience in antitrust matters, including mergers, acquisitions, joint ventures, and cartels. Dr. Cohen has testified in numerous high-profile litigation matters before the U.S. Federal Trade Commission, the U.S. Department of Justice Antitrust Division, the European Commission, and other antitrust authorities.\n",
            "\n",
            "In addition to his work on antitrust matters, Dr. Cohen also has significant experience in other areas of economics, including industrial organization, labor economics, and public economics. He has advised clients on a wide range of economic issues, including the design of regulatory regimes, the evaluation of the economic impacts of government policies, and the development of economic models for policy analysis.\n",
            "\n",
            "IE’s antitrust practice also includes a number of other experienced antitrust economists, many of whom have Ph.D.s from leading universities, such as Harvard, MIT, and Stanford. Our antitrust practice includes experts in a wide range of industries, including aerospace, chemicals, financial services, healthcare, retail, consumer goods, electronics, telecommunications, and transportation.\n",
            "\n",
            "How does IE’s antitrust practice approach antitrust issues?\n",
            "IE’s antitrust practice approaches antitrust issues in a rigorous, independent, and actionable manner. We use state-of-the-art economic analysis to understand the competitive dynamics of the market in question, and we develop recommendations based on that analysis.\n",
            "\n",
            "In merger and acquisition matters, we typically analyze the competitive effects of the proposed transaction, including the potential for reduced competition, increased market power, and other potential harmful effects. We also evaluate the requirements for obtaining regulatory approval, including the potential for remedies, and provide advice on the development of competitive strategies.\n",
            "\n",
            "In cartel investigations, we evaluate the potential antitrust exposure from proposed collaborative arrangements, design compliance programs, and analyze potential or completed cartel arrangements. We also evaluate potential alternatives to cartel arrangements and design economic expert reports, summary charts, and exhibits.\n",
            "\n",
            "In monopolization and other antitrust investigations, we evaluate potential antitrust exposure from market power, pricing, or other business practices, and identify potential alternatives to elimination of competition. We also design compliance programs and provide expert testimony in litigation.\n",
            "\n",
            "IE’s approach is to provide clients with clear, concise, and actionable economic analysis that is tailored to their specific needs. We take a collaborative approach to our work, working closely with our clients to understand their business and to develop recommendations that are both sound from an economic perspective and practical from a business perspective.\n",
            "\n",
            "What sets IE’s antitrust practice apart from other consulting firms?\n",
            "IE’s antitrust practice is one of the largest and most experienced in the world. We have a team of more than 20 antitrust economists with Ph.D.s from leading universities and extensive experience in antitrust matters. Our team includes leading experts in a wide range of industries, including aerospace, chemicals, financial services, healthcare, retail, consumer goods, electronics, telecommunications, and transportation.\n",
            "\n",
            "In addition to our size and expertise, one of the things that sets IE’s antitrust practice apart is our rigorous, independent, and actionable approach to economic analysis. We use state-of-the-art economic analysis to understand the competitive dynamics of the market in question, and we develop recommendations based on that analysis.\n",
            "\n",
            "We also take a collaborative approach to our work, working closely with our clients to understand their business and to develop recommendations that are both sound from an economic perspective and practical from a business perspective.\n",
            "\n",
            "Finally, IE has a strong reputation for excellence, independence, and integrity. We have been recognized as a leading economics consulting firm by a variety of publications, including Consulting Magazine, Vault, and Forbes. Our academic staff is drawn from some of the leading universities in the world, and our research contributes to the academic discourse in economics, industry regulation, and competition policy. In 2016, IE’s principal, Dr. David Autor, was President of the American Economic Association—the world’s largest professional organization of economic scholars.\n",
            "\n",
            "How does IE work with clients on antitrust engagements?\n",
            "IE works with clients on antitrust engagements through a variety of means, including:\n",
            "\n",
            "- Initial assessment of potential antitrust issues: In some cases, clients ask IE to provide an initial assessment of potential antitrust issues. This may include an analysis of the competitive dynamics of the market in question, an evaluation of potential antitrust exposure, and recommendations for next steps.\n",
            "- Comprehensive antitrust analysis: In other cases, clients ask IE to develop a comprehensive antitrust analysis, including analysis of potential competitive effects, market definition, market power, and the requirements for obtaining regulatory approval.\n",
            "- Design of remedies and negotiation of consents: IE often assists clients in the design of divestiture packages and in the negotiation of consents with antitrust authorities.\n",
            "- Analysis of potential alternatives to cartel arrangements: IE evaluates potential alternatives to cartel arrangements and provides advice on competitive strategies.\n",
            "- Evaluation of potential antitrust exposure from market power, pricing, or other business practices: IE evaluates potential antitrust exposure from market power, pricing, or other business practices and identifies potential alternatives to elimination of competition.\n",
            "- Design of compliance programs: IE designs and implements compliance programs for clients to help them avoid antitrust violations.\n",
            "- Expert testimony in litigation: IE provides economic expert testimony in litigation, including analysis of alleged anticompetitive conduct, estimation of competitive effects, calculation of damages, and design of expert witness presentations, including testimony, cross-examination, and rebuttal.\n",
            "\n",
            "IE’s approach is to provide clients with clear, concise, and actionable economic analysis that is tailored to their specific needs. We take a collaborative approach to our work, working closely with our clients to understand their business and to develop recommendations that are both sound from an economic perspective and practical from a business perspective.\n",
            "\n",
            "What types of industries does IE’s antitrust practice have experience in?\n",
            "IE’s antitrust practice has significant experience in a wide range of industries, including aerospace, chemicals, pharmaceuticals, financial services, healthcare, retail, consumer goods, electronics, telecommunications, and transportation.\n",
            "\n",
            "IE has worked with leading corporations, major law firms, and government agencies in connection with mergers, acquisitions, and joint ventures, as well as cartel, monopolization, and other antitrust litigation. Our work has contributed to the resolution of major antitrust enforcement, industry-regulatory proceedings, and regulatory proceedings involving a wide range of industries.\n",
            "\n",
            "What is the role of economics in antitrust investigations and cases?\n",
            "Economics plays a central role in antitrust investigations and cases. Antitrust law is designed to promote competition and prevent anticompetitive behavior that can harm consumers and stifle innovation. Economics is used to understand the competitive dynamics of a market, to evaluate the competitive impact of a merger or acquisition, and to assess the potential antitrust exposure from market power, pricing, or other business practices.\n",
            "\n",
            "In antitrust investigations, economics is used to evaluate the potential competitive effects of a merger or acquisition, to determine whether the transaction would reduce competition, increase market power, or otherwise harm consumers. Economics is also used to evaluate the requirements for obtaining regulatory approval, including the potential for remedies, and to provide advice on the development of competitive strategies.\n",
            "\n",
            "In antitrust litigation, economics is used to evaluate the competitive impact of alleged anticompetitive conduct, to estimate the damages caused by the conduct, and to design expert witness presentations, including testimony, cross-examination, and rebuttal.\n",
            "\n",
            "Economics is also used in self-reported cartel activity and in connection with compliance programs, to evaluate the potential antitrust exposure from proposed collaborative arrangements, to design compliance programs, and to analyze potential or completed cartel arrangements.\n",
            "\n",
            "Overall, the role of economics in antitrust investigations and cases is to provide a rigorous, independent, and actionable analysis of the competitive dynamics of the market, to evaluate the potential competitive impact of a transaction or alleged anticompetitive conduct, and to provide recommendations for next steps.\n"
          ]
        }
      ],
      "source": [
        "# Execute a query to get a response\n",
        "response = hf.invoke(query)\n",
        "print(\"Response from Hugging Face model:\\n\", response)\n",
        "\n",
        "prompt_template = \"\"\"\n",
        "Your answer must be based solely on the context provided below. Do not include any unrelated information.\n",
        "\n",
        "Context:\n",
        "{context}\n",
        "\n",
        "Question:\n",
        "{question}\n",
        "\n",
        "Answer:\n",
        "\"\"\""
      ]
    },
    {
      "cell_type": "code",
      "execution_count": 66,
      "metadata": {
        "id": "3hlMubeUrIGk"
      },
      "outputs": [],
      "source": [
        "from langchain import PromptTemplate\n",
        "prompt = PromptTemplate(template=prompt_template, input_variables=[\"context\", \"question\"])\n",
        "\n",
        "from langchain.chains import RetrievalQA\n",
        "retrievalQA = RetrievalQA.from_chain_type(\n",
        "    llm=hf,\n",
        "    chain_type=\"stuff\",\n",
        "    retriever=retriever,\n",
        "    return_source_documents=True,\n",
        "    chain_type_kwargs={\"prompt\": prompt}\n",
        ")"
      ]
    },
    {
      "cell_type": "code",
      "execution_count": 67,
      "metadata": {
        "id": "7oiTAGsTrQwF"
      },
      "outputs": [
        {
          "name": "stdout",
          "output_type": "stream",
          "text": [
            "* Running on local URL:  http://127.0.0.1:7890\n",
            "\n",
            "To create a public link, set `share=True` in `launch()`.\n"
          ]
        },
        {
          "data": {
            "text/html": [
              "<div><iframe src=\"http://127.0.0.1:7890/\" width=\"100%\" height=\"500\" allow=\"autoplay; camera; microphone; clipboard-read; clipboard-write;\" frameborder=\"0\" allowfullscreen></iframe></div>"
            ],
            "text/plain": [
              "<IPython.core.display.HTML object>"
            ]
          },
          "metadata": {},
          "output_type": "display_data"
        },
        {
          "data": {
            "text/plain": []
          },
          "execution_count": 67,
          "metadata": {},
          "output_type": "execute_result"
        }
      ],
      "source": [
        "# Backend function\n",
        "def search_query(query):\n",
        "    try:\n",
        "        # Call the QA chain with the query\n",
        "        result = retrievalQA.invoke({\"query\": query})\n",
        "\n",
        "        # Directly extract the response content\n",
        "        full_response = result['result']  # Retrieve the generated result from the chain\n",
        "\n",
        "        # Find the \"Answer:\" portion and isolate the actual answer\n",
        "        if \"Answer:\" in full_response:\n",
        "            answer_start = full_response.find(\"Answer:\") + len(\"Answer:\")\n",
        "            answer = full_response[answer_start:].strip()\n",
        "        else:\n",
        "            # Fallback if \"Answer:\" label is missing\n",
        "            answer = full_response.strip()\n",
        "\n",
        "        # Format the output with Question and Answer only\n",
        "        return f\"Question:\\n{query}\\n\\nAnswer:\\n{answer}\"\n",
        "    except Exception as e:\n",
        "        # Handle errors gracefully\n",
        "        return f\"An error occurred: {e}\"\n",
        "\n",
        "# Gradio UI with enhanced appearance\n",
        "import gradio as gr\n",
        "\n",
        "with gr.Blocks() as demo:\n",
        "    # Title Section with Softer Background\n",
        "    with gr.Row(elem_id=\"title-section\"):\n",
        "        with gr.Column():\n",
        "            gr.Markdown(\n",
        "                \"\"\"\n",
        "                <div style=\"font-size: 32px; font-family: 'Montserrat', sans-serif; color: white; text-align: center;\">\n",
        "                COURSE HUNTER\n",
        "                </div>\n",
        "                <div style=\"font-size: 18px; font-family: 'Lato', sans-serif; color: white; text-align: center;\">\n",
        "                <em>Your gateway to smarter learning—start exploring today!!</em>\n",
        "                </div>\n",
        "                \"\"\",\n",
        "                elem_id=\"title\",\n",
        "            )\n",
        "\n",
        "    # Main Functionality Section\n",
        "    with gr.Row():\n",
        "        with gr.Column(scale=1):\n",
        "            query = gr.Textbox(label=\"I’m here to help—just ask!\", placeholder=\"Enter your search term\")\n",
        "            search_button = gr.Button(\"Search\")\n",
        "        with gr.Column(scale=2):\n",
        "            output = gr.Textbox(label=\"Results\", interactive=False)\n",
        "\n",
        "    # Connect the search button with the search function\n",
        "    search_button.click(fn=search_query, inputs=[query], outputs=output)\n",
        "\n",
        "    # Add CSS for enhanced styling\n",
        "    demo.css = \"\"\"\n",
        "        body {\n",
        "            background-color: #F7F9FC !important;\n",
        "            color: #F8F8F8 !important;\n",
        "            font-family: 'Lato', sans-serif;\n",
        "        }\n",
        "        #title-section {\n",
        "            background-color: #5D6D7E !important;\n",
        "            padding: 20px;\n",
        "            border-radius: 8px;\n",
        "            margin-bottom: 20px;\n",
        "        }\n",
        "        .gradio-input, .gradio-output {\n",
        "            border: 1px solid #DADFE3;\n",
        "            background-color: white;\n",
        "            color: #555555;\n",
        "            border-radius: 5px;\n",
        "            padding: 8px;\n",
        "        }\n",
        "        button {\n",
        "            background-color: #3498DB !important;\n",
        "            color: white !important;\n",
        "            border: none;\n",
        "            padding: 8px 16px;\n",
        "            border-radius: 5px;\n",
        "            font-size: 16px;\n",
        "            cursor: pointer;\n",
        "        }\n",
        "        button:hover {\n",
        "            background-color: #2980B9 !important;\n",
        "        }\n",
        "        .gr-row, .gr-column {\n",
        "            margin: 8px 0;\n",
        "        }\n",
        "           /* Add shaded outer frame */\n",
        "        .gradio-container {\n",
        "            border: 3px solid #D3D3D3;\n",
        "            border-radius: 10px;\n",
        "            padding: 20px;\n",
        "            margin: 40px auto;\n",
        "            box-shadow: 0px 8px 16px rgba(0, 0, 0, 0.1); /* Adds a subtle shadow effect */\n",
        "            max-width: 800px;\n",
        "            background-color: #FFFFFF;\n",
        "        }\n",
        "    \"\"\"\n",
        "\n",
        "# Launch the interface\n",
        "demo.launch()"
      ]
    },
    {
      "cell_type": "code",
      "execution_count": null,
      "metadata": {},
      "outputs": [],
      "source": []
    }
  ],
  "metadata": {
    "colab": {
      "provenance": []
    },
    "kernelspec": {
      "display_name": "Python 3",
      "name": "python3"
    },
    "language_info": {
      "codemirror_mode": {
        "name": "ipython",
        "version": 3
      },
      "file_extension": ".py",
      "mimetype": "text/x-python",
      "name": "python",
      "nbconvert_exporter": "python",
      "pygments_lexer": "ipython3",
      "version": "3.10.16"
    }
  },
  "nbformat": 4,
  "nbformat_minor": 0
}
